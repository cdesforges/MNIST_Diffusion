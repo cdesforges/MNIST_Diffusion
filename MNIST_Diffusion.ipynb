{
 "cells": [
  {
   "cell_type": "code",
   "id": "initial_id",
   "metadata": {
    "collapsed": true,
    "ExecuteTime": {
     "end_time": "2025-02-06T06:13:23.127005Z",
     "start_time": "2025-02-06T06:13:23.123999Z"
    }
   },
   "source": [
    "import torch\n",
    "import torch.nn as nn\n",
    "import torch.optim as optim\n",
    "from torchvision import datasets, transforms\n",
    "from torch.utils.data import DataLoader\n",
    "import matplotlib.pyplot as plt\n",
    "import wandb\n",
    "import os\n",
    "import time"
   ],
   "outputs": [],
   "execution_count": 204
  },
  {
   "metadata": {
    "ExecuteTime": {
     "end_time": "2025-02-06T06:13:23.137853Z",
     "start_time": "2025-02-06T06:13:23.134340Z"
    }
   },
   "cell_type": "code",
   "source": "wandb.login()",
   "id": "552bef6253d2268d",
   "outputs": [
    {
     "data": {
      "text/plain": [
       "True"
      ]
     },
     "execution_count": 205,
     "metadata": {},
     "output_type": "execute_result"
    }
   ],
   "execution_count": 205
  },
  {
   "metadata": {
    "ExecuteTime": {
     "end_time": "2025-02-06T06:13:23.463463Z",
     "start_time": "2025-02-06T06:13:23.326641Z"
    }
   },
   "cell_type": "code",
   "source": [
    "# hyper parameters\n",
    "EPOCHS = 500\n",
    "LEARNING_RATE = 1e-4\n",
    "IMAGE_SIZE = 28\n",
    "IMAGE_CHANNELS = 1\n",
    "NUM_LABELS = 10\n",
    "BATCH_SIZE = 64\n",
    "TIMESTEPS = 500\n",
    "device = torch.device(\"mps\" if torch.mps.is_available() else \"cpu\")\n",
    "\n",
    "if torch.device('mps').type == \"mps\" and torch.backends.mps.is_available():\n",
    "    print(\"MPS is available\")\n",
    "else:\n",
    "    print(\"MPS is not available\")\n",
    "    \n",
    "transform = transforms.Compose([\n",
    "    transforms.Resize((IMAGE_SIZE, IMAGE_SIZE)),\n",
    "    transforms.ToTensor(),\n",
    "    transforms.Normalize(mean=[0.5], std=[0.5])\n",
    "])\n",
    "\n",
    "mnist = datasets.MNIST(root=\"./data\", download=True, transform=transform, train=True)\n",
    "data_loader = DataLoader(mnist, batch_size=BATCH_SIZE, shuffle=True)\n",
    "\n",
    "# Visualize a batch\n",
    "def visualize_images(data_loader):\n",
    "    \"\"\"Visualize a batch of grayscale images (MNIST).\"\"\"\n",
    "    for images, labels in data_loader:\n",
    "        fig, axes = plt.subplots(1, 8, figsize=(20, 5))  # Display 8 images\n",
    "\n",
    "        for i in range(8):\n",
    "            img = images[i].detach().cpu().squeeze(0).numpy()  # Remove channel dim (1, H, W) → (H, W)\n",
    "            axes[i].imshow(img, cmap=\"gray\")  # Force grayscale display\n",
    "            axes[i].set_title(f\"Label: {labels[i].item()}\")\n",
    "            axes[i].axis(\"off\")\n",
    "\n",
    "        plt.show()\n",
    "        break \n",
    "\n",
    "# Example usage\n",
    "visualize_images(data_loader)"
   ],
   "id": "63029571c0a238ba",
   "outputs": [
    {
     "name": "stdout",
     "output_type": "stream",
     "text": [
      "MPS is available\n"
     ]
    },
    {
     "data": {
      "text/plain": [
       "<Figure size 2000x500 with 8 Axes>"
      ],
      "image/png": "[encoded data removed]"
     },
     "metadata": {},
     "output_type": "display_data"
    }
   ],
   "execution_count": 206
  },
  {
   "metadata": {
    "ExecuteTime": {
     "end_time": "2025-02-06T06:13:23.474372Z",
     "start_time": "2025-02-06T06:13:23.470471Z"
    }
   },
   "cell_type": "code",
   "source": [
    "def get_sin_beta_schedule(start=0.0001, end=0.02, timesteps=TIMESTEPS, device=\"cpu\"):\n",
    "    t = torch.linspace(0, torch.pi, timesteps, device=device)  # Phase from 0 to π\n",
    "    beta = start + (end - start) * (0.5 * (1 - torch.cos(t)))  # Smooth transition from start to end\n",
    "    return beta\n",
    "\n",
    "# Precompute alpha values\n",
    "def compute_alphas(device=device):\n",
    "    alphas = 1.0 - get_sin_beta_schedule(device=device)\n",
    "    alphas_cumprod = torch.cumprod(alphas, dim=0)\n",
    "    return alphas_cumprod\n",
    "\n",
    "# Forward process: Add noise to image\n",
    "def forward_diffusion_sample(images, timestamp, device=device):\n",
    "    batch_size, _, _, _ = images.shape\n",
    "    noise = torch.randn_like(images, device=device)\n",
    "    alphas_cumprod = compute_alphas(device=device)\n",
    "    sqrt_alpha_t = torch.sqrt(alphas_cumprod[timestamp]).view(batch_size, 1, 1, 1)\n",
    "    sqrt_one_minus_alpha_t = torch.sqrt(1 - alphas_cumprod[timestamp]).view(batch_size, 1, 1, 1)\n",
    "    return sqrt_alpha_t * images + sqrt_one_minus_alpha_t * noise, noise"
   ],
   "id": "7566f27bd87f7066",
   "outputs": [],
   "execution_count": 207
  },
  {
   "metadata": {
    "ExecuteTime": {
     "end_time": "2025-02-06T06:13:23.777688Z",
     "start_time": "2025-02-06T06:13:23.558907Z"
    }
   },
   "cell_type": "code",
   "source": [
    "# Get a sample image\n",
    "image, _ = next(iter(data_loader))\n",
    "image = image[:1]  # Only one image\n",
    "\n",
    "noisy_images = []\n",
    "for t in [0, 100, 200, 300, 400, 499]:  # Select specific timesteps\n",
    "    noisy_image, _ = forward_diffusion_sample(image, t, device=\"cpu\")\n",
    "    noisy_images.append(noisy_image)\n",
    "\n",
    "# Plot results\n",
    "fig, axes = plt.subplots(1, len(noisy_images), figsize=(15, 5))\n",
    "for i, img in enumerate(noisy_images):\n",
    "    axes[i].imshow(img[0].detach().cpu().squeeze(0).numpy(), cmap=\"gray\")  # Rescale for display\n",
    "    axes[i].set_title(f\"t = {i * 100}\")\n",
    "    axes[i].axis('off')\n",
    "plt.show()"
   ],
   "id": "119e02ca994fa662",
   "outputs": [
    {
     "data": {
      "text/plain": [
       "<Figure size 1500x500 with 6 Axes>"
      ],
      "image/png": "[encoded data removed]"
     },
     "metadata": {},
     "output_type": "display_data"
    }
   ],
   "execution_count": 208
  },
  {
   "metadata": {
    "ExecuteTime": {
     "end_time": "2025-02-06T06:13:23.872180Z",
     "start_time": "2025-02-06T06:13:23.868581Z"
    }
   },
   "cell_type": "code",
   "source": [
    "class EncodeBlock(nn.Module):\n",
    "    def __init__(self, in_channels, out_channels, time_emb_dim):\n",
    "        super().__init__()\n",
    "        \n",
    "        # convert time_emb to the correct number of channels for this block\n",
    "        self.time_mlp = nn.Linear(time_emb_dim, out_channels)\n",
    "        \n",
    "        # scale features x 2, then refine\n",
    "        self.conv1 = nn.Conv2d(in_channels, out_channels, kernel_size=3, stride=1, padding=1)            \n",
    "        self.conv2 = nn.Conv2d(out_channels, out_channels, kernel_size=3, stride=1, padding=1)\n",
    "\n",
    "        # normalize\n",
    "        self.bnorm1 = nn.BatchNorm2d(out_channels)\n",
    "        self.bnorm2 = nn.BatchNorm2d(out_channels)\n",
    "        self.relu = nn.LeakyReLU(0.2, inplace=True)\n",
    "        \n",
    "        # halve resolution\n",
    "        self.downres = nn.MaxPool2d(kernel_size=2)\n",
    "\n",
    "    def forward(self, x, t):\n",
    "        # First convolution + batch norm + activation\n",
    "        x = self.relu(self.bnorm1(self.conv1(x)))\n",
    "\n",
    "        # Time embedding\n",
    "        time_emb = self.relu(self.time_mlp(t))\n",
    "        time_emb = time_emb.unsqueeze(2).unsqueeze(3)  # Reshape for broadcasting\n",
    "\n",
    "        # Add time embedding to feature map\n",
    "        x = x + time_emb\n",
    "\n",
    "        # Second convolution + batch norm + activation\n",
    "        x_pre_downres = self.relu(self.bnorm2(self.conv2(x)))\n",
    "        \n",
    "        # Upsample or Downsample\n",
    "        return self.downres(x_pre_downres), x_pre_downres  # return output and output before reshaping for skip"
   ],
   "id": "4801957c04951648",
   "outputs": [],
   "execution_count": 209
  },
  {
   "metadata": {
    "ExecuteTime": {
     "end_time": "2025-02-06T06:13:23.961383Z",
     "start_time": "2025-02-06T06:13:23.957688Z"
    }
   },
   "cell_type": "code",
   "source": [
    "class BottleNeck(nn.Module):\n",
    "    def __init__(self, in_channels, out_channels, time_emb_dim):\n",
    "        super().__init__()\n",
    "        \n",
    "        # convert time_emb to the correct number of channels for this block\n",
    "        self.time_mlp = nn.Linear(time_emb_dim, out_channels)\n",
    "        \n",
    "        # scale features x 2, then refine\n",
    "        self.conv1 = nn.Conv2d(in_channels, out_channels, kernel_size=3, stride=1, padding=1)            \n",
    "        self.conv2 = nn.Conv2d(out_channels, out_channels, kernel_size=3, stride=1, padding=1)\n",
    "\n",
    "        # normalize\n",
    "        self.bnorm1 = nn.BatchNorm2d(out_channels)\n",
    "        self.bnorm2 = nn.BatchNorm2d(out_channels)\n",
    "        self.relu = nn.LeakyReLU(0.2, inplace=True)\n",
    "\n",
    "    def forward(self, x, t):\n",
    "        # First convolution + batch norm + activation\n",
    "        x = self.relu(self.bnorm1(self.conv1(x)))\n",
    "\n",
    "        # Time embedding\n",
    "        time_emb = self.relu(self.time_mlp(t))\n",
    "        time_emb = time_emb.unsqueeze(2).unsqueeze(3)  # Reshape for broadcasting\n",
    "\n",
    "        # Add time embedding to feature map\n",
    "        x = x + time_emb\n",
    "\n",
    "        # Second convolution + batch norm + activation\n",
    "        x = self.relu(self.bnorm2(self.conv2(x)))\n",
    "        \n",
    "        return x"
   ],
   "id": "eebb38c39b7ad165",
   "outputs": [],
   "execution_count": 210
  },
  {
   "metadata": {
    "ExecuteTime": {
     "end_time": "2025-02-06T06:13:24.048871Z",
     "start_time": "2025-02-06T06:13:24.044749Z"
    }
   },
   "cell_type": "code",
   "source": [
    "class DecodeBlock(nn.Module):\n",
    "    def __init__(self, in_channels, out_channels, time_emb_dim):\n",
    "        super().__init__()\n",
    "        \n",
    "        # convert time_emb to the correct number of channels for this block\n",
    "        self.time_mlp = nn.Linear(time_emb_dim, out_channels)\n",
    "        \n",
    "        # Upres 2x for decode layers\n",
    "        self.upres = nn.ConvTranspose2d(in_channels, out_channels, kernel_size=4, stride=2, padding=1)\n",
    "        \n",
    "        # Input has been concatenated with skip connection (input * 2 is the size)\n",
    "        self.conv1 = nn.Conv2d(2*out_channels, out_channels, kernel_size=3, stride=1, padding=1)\n",
    "        self.conv2 = nn.Conv2d(out_channels, out_channels, kernel_size=3, stride=1, padding=1)\n",
    "\n",
    "        # normalize\n",
    "        self.bnormUp = nn.BatchNorm2d(out_channels)\n",
    "        self.bnorm1 = nn.BatchNorm2d(out_channels)\n",
    "        self.bnorm2 = nn.BatchNorm2d(out_channels)\n",
    "        self.relu = nn.LeakyReLU(0.2, inplace=True)\n",
    "\n",
    "    def forward(self, x, t, x_skip):\n",
    "        # scale up + batch norm + activation\n",
    "        x = self.relu(self.bnormUp(self.upres(x)))\n",
    "        \n",
    "        # Time embedding\n",
    "        time_emb = self.relu(self.time_mlp(t))\n",
    "        time_emb = time_emb.unsqueeze(2).unsqueeze(3)  # Reshape for broadcasting\n",
    "        \n",
    "        # print(\"Decode forward:\\ntime_emb:\", time_emb.shape)  # Should be (batch_size, 128, 14, 14)\n",
    "        # print(\"x:\", x.shape)  # Should be (batch_size, 128, 14, 14)\n",
    "        \n",
    "        # Add time embedding to feature map\n",
    "        x = x + time_emb\n",
    "        \n",
    "        # print(\"x shape after upres:\", x.shape)  # Should be (batch_size, 128, 14, 14)\n",
    "        # print(\"x_skip shape:\", x_skip.shape)  # Should be (batch_size, 128, 14, 14)\n",
    "        # print(\"\\n\\n\")\n",
    "        \n",
    "        # concatenate the skip layer\n",
    "        x = torch.cat((x, x_skip), dim=1)\n",
    "\n",
    "        # Two convolutions w/ batch norm + activation\n",
    "        x = self.relu(self.bnorm1(self.conv1(x)))\n",
    "        x = self.relu(self.bnorm2(self.conv2(x)))\n",
    "\n",
    "        return x"
   ],
   "id": "38c45b1c2e7176ce",
   "outputs": [],
   "execution_count": 211
  },
  {
   "metadata": {
    "ExecuteTime": {
     "end_time": "2025-02-06T06:13:24.136611Z",
     "start_time": "2025-02-06T06:13:24.133271Z"
    }
   },
   "cell_type": "code",
   "source": [
    "class SinPositionEmbeddings(nn.Module):\n",
    "    def __init__(self, dim):\n",
    "        super().__init__()\n",
    "        self.dim = dim\n",
    "        \n",
    "    def forward(self, time):\n",
    "        device = time.device\n",
    "        time = time.float()\n",
    "        half_dim = self.dim // 2\n",
    "        embeddings = torch.log(torch.tensor(10000.0)) / (half_dim - 1)\n",
    "        embeddings = torch.exp(torch.arange(half_dim, device=device) * -embeddings)\n",
    "        embeddings = time[:, None] * embeddings[None, :]\n",
    "        embeddings = torch.cat((embeddings.sin(), embeddings.cos()), dim=-1)\n",
    "        return embeddings"
   ],
   "id": "6791e36374fc51ed",
   "outputs": [],
   "execution_count": 212
  },
  {
   "metadata": {
    "ExecuteTime": {
     "end_time": "2025-02-06T06:13:24.224326Z",
     "start_time": "2025-02-06T06:13:24.219894Z"
    }
   },
   "cell_type": "code",
   "source": [
    "class UNet(nn.Module):\n",
    "    def __init__(self):\n",
    "        super().__init__()\n",
    "        self.image_channels = IMAGE_CHANNELS\n",
    "        self.time_emb_dim = 32\n",
    "        self.label_emb_dim = 32\n",
    "        self.bottle_neck_size = [128, 256]\n",
    "        \n",
    "        # Time embedding\n",
    "        self.time_emb = nn.Sequential(\n",
    "            SinPositionEmbeddings(self.time_emb_dim),\n",
    "            nn.Linear(self.time_emb_dim, self.time_emb_dim),\n",
    "            nn.ReLU()\n",
    "        )\n",
    "        self.time_emb_scaled = nn.Linear(self.time_emb_dim, self.bottle_neck_size[0])\n",
    "        \n",
    "        # Class embedding\n",
    "        self.label_emb = nn.Embedding(NUM_LABELS, self.label_emb_dim)\n",
    "        \n",
    "        # Encode\n",
    "        self.enc_blocks = nn.ModuleList([EncodeBlock(1, 64, self.time_emb_dim),\n",
    "                                         EncodeBlock(64, 128, self.time_emb_dim)\n",
    "                                         ])\n",
    "        \n",
    "        # Bottleneck\n",
    "        self.bottleneck_block = BottleNeck(self.bottle_neck_size[0], self.bottle_neck_size[1], self.time_emb_dim)\n",
    "        \n",
    "        # Decode\n",
    "        self.dec_blocks = nn.ModuleList([DecodeBlock(256, 128, self.time_emb_dim),\n",
    "                                         DecodeBlock(128, 64, self.time_emb_dim)\n",
    "                                         ])\n",
    "        \n",
    "        # Output\n",
    "        self.final_conv = nn.Conv2d(64, self.image_channels, kernel_size=3, stride=1, padding=1)\n",
    "        \n",
    "    def forward(self, x, timestep, label):\n",
    "        # Embed time and class and combine\n",
    "        t_and_c = self.time_emb(timestep) + self.label_emb(label)\n",
    "        \n",
    "        # Save skip layers\n",
    "        saved_outputs = []\n",
    "\n",
    "        # Encode\n",
    "        for enc_block in self.enc_blocks:\n",
    "            x, x_pre_trans = enc_block(x, t_and_c)\n",
    "            saved_outputs.append(x_pre_trans)\n",
    "            \n",
    "        # Bottleneck\n",
    "        x = self.bottleneck_block(x, t_and_c)\n",
    "        \n",
    "        # Decode     \n",
    "        for dec_block in self.dec_blocks:\n",
    "            x = dec_block(x, t_and_c, saved_outputs[-1])\n",
    "            saved_outputs.pop()\n",
    "            \n",
    "        return self.final_conv(x)"
   ],
   "id": "bf50270721d812d9",
   "outputs": [],
   "execution_count": 213
  },
  {
   "metadata": {
    "ExecuteTime": {
     "end_time": "2025-02-06T06:13:24.308027Z",
     "start_time": "2025-02-06T06:13:24.305797Z"
    }
   },
   "cell_type": "code",
   "source": [
    "def get_loss(model, x_0, t, labels):\n",
    "    x_noisy, noise = forward_diffusion_sample(x_0, t, device)\n",
    "    noise_pred = model(x_noisy, t, labels)\n",
    "    return torch.nn.functional.mse_loss(noise_pred, noise)"
   ],
   "id": "22b79168231ac9b3",
   "outputs": [],
   "execution_count": 214
  },
  {
   "metadata": {
    "ExecuteTime": {
     "end_time": "2025-02-06T06:13:24.392828Z",
     "start_time": "2025-02-06T06:13:24.390726Z"
    }
   },
   "cell_type": "code",
   "source": [
    "def denormalize(image):\n",
    "    \"\"\"Convert an image from range [-1,1] to [0,1] for proper visualization.\"\"\"\n",
    "    return (image + 1) / 2  # Scale values from [-1,1] to [0,1]"
   ],
   "id": "db02d54b2de2ff59",
   "outputs": [],
   "execution_count": 215
  },
  {
   "metadata": {
    "ExecuteTime": {
     "end_time": "2025-02-06T06:13:24.479420Z",
     "start_time": "2025-02-06T06:13:24.475623Z"
    }
   },
   "cell_type": "code",
   "source": [
    "def test():\n",
    "    with torch.no_grad():\n",
    "        model.eval()\n",
    "        \n",
    "        shape = (NUM_LABELS, IMAGE_CHANNELS, IMAGE_SIZE, IMAGE_SIZE)\n",
    "        x = torch.randn(shape, device=device)  # Shape: (10, 1, 28, 28)\n",
    "    \n",
    "        betas = get_sin_beta_schedule(device=device)\n",
    "        alphas = 1.0 - betas\n",
    "        alphas_cumprod = torch.cumprod(alphas, dim=0)\n",
    "        \n",
    "        # Assign each image a unique class label (0-9)\n",
    "        class_labels = torch.arange(NUM_LABELS, dtype=torch.long, device=device)  # Shape: (10,)\n",
    "\n",
    "        for t in reversed(range(TIMESTEPS)):\n",
    "            t_tensor = torch.full((NUM_LABELS,), t, device=device, dtype=torch.long)  # Same t for all samples\n",
    "            noise_pred = model(x, t_tensor, class_labels)  # Forward all 10 digits at once\n",
    "\n",
    "            alpha_t = alphas[t]\n",
    "            alpha_cum_t = alphas_cumprod[t]\n",
    "            beta_t = betas[t]\n",
    "\n",
    "            x = (1.0 / torch.sqrt(alpha_t)) * (x - (beta_t / torch.sqrt(1.0 - alpha_cum_t)) * noise_pred)\n",
    "\n",
    "            if t > 0:                \n",
    "                sigma_t = torch.sqrt(beta_t)\n",
    "                noise = torch.randn_like(x)\n",
    "                x += sigma_t * noise  # Add noise for variance\n",
    "\n",
    "    return x  # Final batch of 10 generated images (shape: [10, 1, 28, 28])\n",
    "        "
   ],
   "id": "134084afe469c791",
   "outputs": [],
   "execution_count": 216
  },
  {
   "metadata": {
    "ExecuteTime": {
     "end_time": "2025-02-06T06:13:24.565216Z",
     "start_time": "2025-02-06T06:13:24.562845Z"
    }
   },
   "cell_type": "code",
   "source": [
    "def log(epoch, epoch_loss, test_images):\n",
    "\n",
    "    # Compute average loss\n",
    "    epoch_loss /= len(data_loader)\n",
    "\n",
    "    # Convert test images to W&B format\n",
    "    wandb_images = [wandb.Image(img.detach().squeeze(0).cpu().numpy(), caption=f\"Epoch {epoch+1}\") for img in test_images]\n",
    "    \n",
    "    # Log to W&B\n",
    "    wandb.log({\n",
    "        \"epoch_loss\": epoch_loss,\n",
    "        \"epoch\": epoch + 1,\n",
    "        \"test_images\": wandb_images\n",
    "    })"
   ],
   "id": "a20c694948f958e9",
   "outputs": [],
   "execution_count": 217
  },
  {
   "metadata": {
    "ExecuteTime": {
     "end_time": "2025-02-06T06:13:24.651584Z",
     "start_time": "2025-02-06T06:13:24.648065Z"
    }
   },
   "cell_type": "code",
   "source": [
    "def display_images(images):\n",
    "    \"\"\"Display a list of PyTorch tensors as images in a row, assuming shape (C, H, W).\"\"\"\n",
    "\n",
    "    # Convert tensors to NumPy arrays\n",
    "    processed_images = []\n",
    "    for img in images:\n",
    "        img = img.detach().cpu()  # Move to CPU and detach from computation graph\n",
    "\n",
    "        if img.shape[0] == 1:  # Grayscale (1, H, W) → (H, W)\n",
    "            img = img.squeeze(0)  # Remove the channel dimension\n",
    "        else:  # RGB (3, H, W) → (H, W, 3)\n",
    "            img = img.permute(1, 2, 0)  # Change from (C, H, W) → (H, W, C)\n",
    "        \n",
    "        img = denormalize(img)\n",
    "        processed_images.append(img.numpy())\n",
    "\n",
    "    # Create figure\n",
    "    fig, axes = plt.subplots(1, len(processed_images), figsize=(len(processed_images) * 2, 2))\n",
    "\n",
    "    if len(processed_images) == 1:\n",
    "        axes = [axes]  # Ensure axes is iterable when only one image is displayed\n",
    "\n",
    "    # Display images\n",
    "    for i, (ax, img) in enumerate(zip(axes, processed_images)):\n",
    "        ax.imshow(img, cmap=\"gray\" if img.ndim == 2 else None)  # Auto-detect grayscale vs. RGB\n",
    "        ax.set_title(f\"{i}\")\n",
    "        ax.axis(\"off\")  # Hide axes\n",
    "\n",
    "    plt.show()"
   ],
   "id": "6e542c684665cfd1",
   "outputs": [],
   "execution_count": 218
  },
  {
   "metadata": {
    "ExecuteTime": {
     "end_time": "2025-02-06T06:13:24.740320Z",
     "start_time": "2025-02-06T06:13:24.737094Z"
    }
   },
   "cell_type": "code",
   "source": [
    "def create_save_directory():\n",
    "    \n",
    "    # Generate a timestamped filename\n",
    "    timestamp = time.strftime(\"%Y%m%d-%H%M%S\")  # e.g., \"20240205-153045\"\n",
    "    save_dir = f\"MNIST_Diffusion_{timestamp}\"\n",
    "    \n",
    "    # Create save directory if it doesn't exist\n",
    "    os.makedirs(save_dir, exist_ok=True)\n",
    "    \n",
    "    return save_dir\n",
    "\n",
    "def save_checkpoint(epoch, model, optimizer, save_path):\n",
    "    \n",
    "    # save checkpoint\n",
    "    checkpoint_path = os.path.join(save_path, f\"epoch_{epoch}.pth\")\n",
    "    torch.save({\n",
    "            'epoch': epoch,\n",
    "            'model_state_dict': model.state_dict(),\n",
    "            'optimizer_state_dict': optimizer.state_dict(),\n",
    "            }, checkpoint_path)\n",
    "    \n",
    "    # save latest (will overwrite every epoch)\n",
    "    latest_path = os.path.join(save_path, \"latest.pth\")\n",
    "    torch.save({\n",
    "            'epoch': epoch,\n",
    "            'model_state_dict': model.state_dict(),\n",
    "            'optimizer_state_dict': optimizer.state_dict(),\n",
    "            }, latest_path)\n",
    "\n",
    "    print(f\"Checkpoint saved: {checkpoint_path}\")\n"
   ],
   "id": "28f04282204ff4d2",
   "outputs": [],
   "execution_count": 219
  },
  {
   "metadata": {
    "ExecuteTime": {
     "end_time": "2025-02-06T06:13:24.827439Z",
     "start_time": "2025-02-06T06:13:24.825092Z"
    }
   },
   "cell_type": "code",
   "source": [
    "def init_wandb(run_name):\n",
    "    wandb.init(project=\"MNIST_UNet_Diffusion\",\n",
    "               name=run_name,\n",
    "               config={\n",
    "                   \"learning_rate\": LEARNING_RATE,\n",
    "                   \"epochs\": EPOCHS,\n",
    "                   \"batch_size\": BATCH_SIZE,\n",
    "               })"
   ],
   "id": "b08e4c3eb44d08a2",
   "outputs": [],
   "execution_count": 220
  },
  {
   "metadata": {
    "ExecuteTime": {
     "end_time": "2025-02-06T06:13:24.912955Z",
     "start_time": "2025-02-06T06:13:24.909901Z"
    }
   },
   "cell_type": "code",
   "source": [
    "def train():\n",
    "    \n",
    "    model.train()\n",
    "    total_loss = 0\n",
    "    \n",
    "    for batch_idx, (images, labels) in enumerate(data_loader):\n",
    "        images = images.to(device)\n",
    "        labels = labels.to(device)\n",
    "        batch_size = images.size(0)\n",
    "        \n",
    "        optimizer.zero_grad()\n",
    "\n",
    "        # Sample random timesteps for this batch\n",
    "        t = torch.randint(low=0, high=TIMESTEPS, size=(batch_size,), device=device).long()\n",
    "\n",
    "        # Compute the loss\n",
    "        loss = get_loss(model, images, t, labels)\n",
    "\n",
    "        # Backpropagation\n",
    "        loss.backward()\n",
    "        optimizer.step()\n",
    "        \n",
    "        total_loss += loss.item()\n",
    "\n",
    "    return total_loss"
   ],
   "id": "a74d7f410a16da7e",
   "outputs": [],
   "execution_count": 221
  },
  {
   "metadata": {
    "ExecuteTime": {
     "end_time": "2025-02-06T06:13:25.514840Z",
     "start_time": "2025-02-06T06:13:24.999276Z"
    }
   },
   "cell_type": "code",
   "source": [
    "# Initialize model, optimizer, and parameters\n",
    "model = UNet().to(device)\n",
    "optimizer = optim.Adam(model.parameters(), lr=LEARNING_RATE)\n",
    "model.train()\n",
    "save_directory = create_save_directory()\n",
    "init_wandb(save_directory)"
   ],
   "id": "61cccf25997e6349",
   "outputs": [
    {
     "data": {
      "text/plain": [
       "<IPython.core.display.HTML object>"
      ],
      "text/html": [
       "Tracking run with wandb version 0.19.5"
      ]
     },
     "metadata": {},
     "output_type": "display_data"
    },
    {
     "data": {
      "text/plain": [
       "<IPython.core.display.HTML object>"
      ],
      "text/html": [
       "Run data is saved locally in <code>/Users/cdesforges/PycharmProjects/MNIST_Diffusion/wandb/run-20250205_221325-44jk2z7o</code>"
      ]
     },
     "metadata": {},
     "output_type": "display_data"
    },
    {
     "data": {
      "text/plain": [
       "<IPython.core.display.HTML object>"
      ],
      "text/html": [
       "Syncing run <strong><a href='https://wandb.ai/cdesforges_wandb/MNIST_UNet_Diffusion/runs/44jk2z7o' target=\"_blank\">MNIST_Diffusion_20250205-221325</a></strong> to <a href='https://wandb.ai/cdesforges_wandb/MNIST_UNet_Diffusion' target=\"_blank\">Weights & Biases</a> (<a href='https://wandb.me/developer-guide' target=\"_blank\">docs</a>)<br>"
      ]
     },
     "metadata": {},
     "output_type": "display_data"
    },
    {
     "data": {
      "text/plain": [
       "<IPython.core.display.HTML object>"
      ],
      "text/html": [
       " View project at <a href='https://wandb.ai/cdesforges_wandb/MNIST_UNet_Diffusion' target=\"_blank\">https://wandb.ai/cdesforges_wandb/MNIST_UNet_Diffusion</a>"
      ]
     },
     "metadata": {},
     "output_type": "display_data"
    },
    {
     "data": {
      "text/plain": [
       "<IPython.core.display.HTML object>"
      ],
      "text/html": [
       " View run at <a href='https://wandb.ai/cdesforges_wandb/MNIST_UNet_Diffusion/runs/44jk2z7o' target=\"_blank\">https://wandb.ai/cdesforges_wandb/MNIST_UNet_Diffusion/runs/44jk2z7o</a>"
      ]
     },
     "metadata": {},
     "output_type": "display_data"
    }
   ],
   "execution_count": 222
  },
  {
   "metadata": {
    "jupyter": {
     "is_executing": true
    },
    "ExecuteTime": {
     "start_time": "2025-02-06T06:13:25.609117Z"
    }
   },
   "cell_type": "code",
   "source": [
    "# Training loop\n",
    "try:\n",
    "    for epoch in range(EPOCHS):\n",
    "        \n",
    "        epoch_loss = train()\n",
    "        test_images = test()\n",
    "        display_images(test_images)\n",
    "        log(epoch, epoch_loss, test_images)\n",
    "        \n",
    "        print(f\"Epoch {epoch + 1}/{EPOCHS}, Loss: {epoch_loss:.4f}\")\n",
    "        \n",
    "        if epoch % 10 == 0:\n",
    "            save_checkpoint(epoch, model, optimizer, save_directory)\n",
    "finally:\n",
    "    wandb.finish()     "
   ],
   "id": "143dad1211afdeab",
   "outputs": [
    {
     "data": {
      "text/plain": [
       "<Figure size 2000x200 with 10 Axes>"
      ],
      "image/png": "[encoded data removed]"
     },
     "metadata": {},
     "output_type": "display_data"
    },
    {
     "name": "stdout",
     "output_type": "stream",
     "text": [
      "Epoch 1/500, Loss: 122.4712\n",
      "Checkpoint saved: MNIST_Diffusion_20250205-221325/epoch_0.pth\n"
     ]
    },
    {
     "data": {
      "text/plain": [
       "<Figure size 2000x200 with 10 Axes>"
      ],
      "image/png": "[encoded data removed]"
     },
     "metadata": {},
     "output_type": "display_data"
    },
    {
     "name": "stdout",
     "output_type": "stream",
     "text": [
      "Epoch 2/500, Loss: 71.0691\n"
     ]
    }
   ],
   "execution_count": null
  }
 ],
 "metadata": {
  "kernelspec": {
   "display_name": "Python 3",
   "language": "python",
   "name": "python3"
  },
  "language_info": {
   "codemirror_mode": {
    "name": "ipython",
    "version": 2
   },
   "file_extension": ".py",
   "mimetype": "text/x-python",
   "name": "python",
   "nbconvert_exporter": "python",
   "pygments_lexer": "ipython2",
   "version": "2.7.6"
  }
 },
 "nbformat": 4,
 "nbformat_minor": 5
}
